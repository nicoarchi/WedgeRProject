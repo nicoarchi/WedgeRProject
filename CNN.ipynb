{
 "cells": [
  {
   "cell_type": "code",
   "execution_count": 1,
   "metadata": {},
   "outputs": [
    {
     "name": "stdout",
     "output_type": "stream",
     "text": [
      "Requirement already satisfied: tensorflow-gpu in c:\\users\\narch\\anaconda3\\envs\\gputest\\lib\\site-packages (2.2.0)\n",
      "Requirement already satisfied: h5py<2.11.0,>=2.10.0 in c:\\users\\narch\\anaconda3\\envs\\gputest\\lib\\site-packages (from tensorflow-gpu) (2.10.0)\n",
      "Requirement already satisfied: absl-py>=0.7.0 in c:\\users\\narch\\anaconda3\\envs\\gputest\\lib\\site-packages (from tensorflow-gpu) (0.9.0)\n",
      "Requirement already satisfied: gast==0.3.3 in c:\\users\\narch\\anaconda3\\envs\\gputest\\lib\\site-packages (from tensorflow-gpu) (0.3.3)\n",
      "Requirement already satisfied: six>=1.12.0 in c:\\users\\narch\\anaconda3\\envs\\gputest\\lib\\site-packages (from tensorflow-gpu) (1.15.0)\n",
      "Requirement already satisfied: wrapt>=1.11.1 in c:\\users\\narch\\appdata\\roaming\\python\\python37\\site-packages (from tensorflow-gpu) (1.12.1)\n",
      "Requirement already satisfied: termcolor>=1.1.0 in c:\\users\\narch\\anaconda3\\envs\\gputest\\lib\\site-packages (from tensorflow-gpu) (1.1.0)\n",
      "Requirement already satisfied: keras-preprocessing>=1.1.0 in c:\\users\\narch\\anaconda3\\envs\\gputest\\lib\\site-packages (from tensorflow-gpu) (1.1.0)\n",
      "Requirement already satisfied: scipy==1.4.1; python_version >= \"3\" in c:\\users\\narch\\anaconda3\\envs\\gputest\\lib\\site-packages (from tensorflow-gpu) (1.4.1)\n",
      "Requirement already satisfied: protobuf>=3.8.0 in c:\\users\\narch\\anaconda3\\envs\\gputest\\lib\\site-packages (from tensorflow-gpu) (3.12.3)\n",
      "Requirement already satisfied: google-pasta>=0.1.8 in c:\\users\\narch\\anaconda3\\envs\\gputest\\lib\\site-packages (from tensorflow-gpu) (0.2.0)\n",
      "Requirement already satisfied: numpy<2.0,>=1.16.0 in c:\\users\\narch\\anaconda3\\envs\\gputest\\lib\\site-packages (from tensorflow-gpu) (1.18.5)\n",
      "Requirement already satisfied: tensorboard<2.3.0,>=2.2.0 in c:\\users\\narch\\anaconda3\\envs\\gputest\\lib\\site-packages (from tensorflow-gpu) (2.2.1)\n",
      "Requirement already satisfied: opt-einsum>=2.3.2 in c:\\users\\narch\\anaconda3\\envs\\gputest\\lib\\site-packages (from tensorflow-gpu) (3.1.0)\n",
      "Requirement already satisfied: wheel>=0.26; python_version >= \"3\" in c:\\users\\narch\\anaconda3\\envs\\gputest\\lib\\site-packages (from tensorflow-gpu) (0.34.2)\n",
      "Requirement already satisfied: grpcio>=1.8.6 in c:\\users\\narch\\anaconda3\\envs\\gputest\\lib\\site-packages (from tensorflow-gpu) (1.27.2)\n",
      "Requirement already satisfied: astunparse==1.6.3 in c:\\users\\narch\\anaconda3\\envs\\gputest\\lib\\site-packages (from tensorflow-gpu) (1.6.3)\n",
      "Requirement already satisfied: tensorflow-gpu-estimator<2.3.0,>=2.2.0 in c:\\users\\narch\\anaconda3\\envs\\gputest\\lib\\site-packages (from tensorflow-gpu) (2.2.0)\n",
      "Requirement already satisfied: setuptools in c:\\users\\narch\\anaconda3\\envs\\gputest\\lib\\site-packages (from protobuf>=3.8.0->tensorflow-gpu) (47.1.1.post20200604)\n",
      "Requirement already satisfied: tensorboard-plugin-wit>=1.6.0 in c:\\users\\narch\\anaconda3\\envs\\gputest\\lib\\site-packages (from tensorboard<2.3.0,>=2.2.0->tensorflow-gpu) (1.6.0)\n",
      "Requirement already satisfied: requests<3,>=2.21.0 in c:\\users\\narch\\anaconda3\\envs\\gputest\\lib\\site-packages (from tensorboard<2.3.0,>=2.2.0->tensorflow-gpu) (2.23.0)\n",
      "Requirement already satisfied: google-auth<2,>=1.6.3 in c:\\users\\narch\\anaconda3\\envs\\gputest\\lib\\site-packages (from tensorboard<2.3.0,>=2.2.0->tensorflow-gpu) (1.14.1)\n",
      "Requirement already satisfied: werkzeug>=0.11.15 in c:\\users\\narch\\anaconda3\\envs\\gputest\\lib\\site-packages (from tensorboard<2.3.0,>=2.2.0->tensorflow-gpu) (0.16.1)\n",
      "Requirement already satisfied: google-auth-oauthlib<0.5,>=0.4.1 in c:\\users\\narch\\anaconda3\\envs\\gputest\\lib\\site-packages (from tensorboard<2.3.0,>=2.2.0->tensorflow-gpu) (0.4.1)\n",
      "Requirement already satisfied: markdown>=2.6.8 in c:\\users\\narch\\anaconda3\\envs\\gputest\\lib\\site-packages (from tensorboard<2.3.0,>=2.2.0->tensorflow-gpu) (3.1.1)\n",
      "Requirement already satisfied: idna<3,>=2.5 in c:\\users\\narch\\anaconda3\\envs\\gputest\\lib\\site-packages (from requests<3,>=2.21.0->tensorboard<2.3.0,>=2.2.0->tensorflow-gpu) (2.9)\n",
      "Requirement already satisfied: chardet<4,>=3.0.2 in c:\\users\\narch\\anaconda3\\envs\\gputest\\lib\\site-packages (from requests<3,>=2.21.0->tensorboard<2.3.0,>=2.2.0->tensorflow-gpu) (3.0.4)\n",
      "Requirement already satisfied: certifi>=2017.4.17 in c:\\users\\narch\\anaconda3\\envs\\gputest\\lib\\site-packages (from requests<3,>=2.21.0->tensorboard<2.3.0,>=2.2.0->tensorflow-gpu) (2020.4.5.1)\n",
      "Requirement already satisfied: urllib3!=1.25.0,!=1.25.1,<1.26,>=1.21.1 in c:\\users\\narch\\anaconda3\\envs\\gputest\\lib\\site-packages (from requests<3,>=2.21.0->tensorboard<2.3.0,>=2.2.0->tensorflow-gpu) (1.25.8)\n",
      "Requirement already satisfied: rsa<4.1,>=3.1.4 in c:\\users\\narch\\anaconda3\\envs\\gputest\\lib\\site-packages (from google-auth<2,>=1.6.3->tensorboard<2.3.0,>=2.2.0->tensorflow-gpu) (4.0)\n",
      "Requirement already satisfied: cachetools<5.0,>=2.0.0 in c:\\users\\narch\\anaconda3\\envs\\gputest\\lib\\site-packages (from google-auth<2,>=1.6.3->tensorboard<2.3.0,>=2.2.0->tensorflow-gpu) (4.1.0)\n",
      "Requirement already satisfied: pyasn1-modules>=0.2.1 in c:\\users\\narch\\anaconda3\\envs\\gputest\\lib\\site-packages (from google-auth<2,>=1.6.3->tensorboard<2.3.0,>=2.2.0->tensorflow-gpu) (0.2.7)\n",
      "Requirement already satisfied: requests-oauthlib>=0.7.0 in c:\\users\\narch\\anaconda3\\envs\\gputest\\lib\\site-packages (from google-auth-oauthlib<0.5,>=0.4.1->tensorboard<2.3.0,>=2.2.0->tensorflow-gpu) (1.3.0)\n",
      "Requirement already satisfied: pyasn1>=0.1.3 in c:\\users\\narch\\anaconda3\\envs\\gputest\\lib\\site-packages (from rsa<4.1,>=3.1.4->google-auth<2,>=1.6.3->tensorboard<2.3.0,>=2.2.0->tensorflow-gpu) (0.4.8)\n",
      "Requirement already satisfied: oauthlib>=3.0.0 in c:\\users\\narch\\anaconda3\\envs\\gputest\\lib\\site-packages (from requests-oauthlib>=0.7.0->google-auth-oauthlib<0.5,>=0.4.1->tensorboard<2.3.0,>=2.2.0->tensorflow-gpu) (3.1.0)\n"
     ]
    }
   ],
   "source": [
    "!pip install tensorflow-gpu"
   ]
  },
  {
   "cell_type": "code",
   "execution_count": 2,
   "metadata": {},
   "outputs": [
    {
     "name": "stdout",
     "output_type": "stream",
     "text": [
      "Requirement already satisfied: mlxtend in c:\\users\\narch\\anaconda3\\envs\\gputest\\lib\\site-packages (0.17.2)\n",
      "Requirement already satisfied: scipy>=1.2.1 in c:\\users\\narch\\anaconda3\\envs\\gputest\\lib\\site-packages (from mlxtend) (1.4.1)\n",
      "Requirement already satisfied: matplotlib>=3.0.0 in c:\\users\\narch\\anaconda3\\envs\\gputest\\lib\\site-packages (from mlxtend) (3.2.1)\n",
      "Requirement already satisfied: numpy>=1.16.2 in c:\\users\\narch\\anaconda3\\envs\\gputest\\lib\\site-packages (from mlxtend) (1.18.5)\n",
      "Requirement already satisfied: pandas>=0.24.2 in c:\\users\\narch\\anaconda3\\envs\\gputest\\lib\\site-packages (from mlxtend) (1.0.4)\n",
      "Requirement already satisfied: setuptools in c:\\users\\narch\\anaconda3\\envs\\gputest\\lib\\site-packages (from mlxtend) (47.1.1.post20200604)\n",
      "Requirement already satisfied: joblib>=0.13.2 in c:\\users\\narch\\anaconda3\\envs\\gputest\\lib\\site-packages (from mlxtend) (0.15.1)\n",
      "Requirement already satisfied: scikit-learn>=0.20.3 in c:\\users\\narch\\anaconda3\\envs\\gputest\\lib\\site-packages (from mlxtend) (0.23.1)\n",
      "Requirement already satisfied: python-dateutil>=2.1 in c:\\users\\narch\\anaconda3\\envs\\gputest\\lib\\site-packages (from matplotlib>=3.0.0->mlxtend) (2.8.1)\n",
      "Requirement already satisfied: cycler>=0.10 in c:\\users\\narch\\anaconda3\\envs\\gputest\\lib\\site-packages (from matplotlib>=3.0.0->mlxtend) (0.10.0)\n",
      "Requirement already satisfied: pyparsing!=2.0.4,!=2.1.2,!=2.1.6,>=2.0.1 in c:\\users\\narch\\anaconda3\\envs\\gputest\\lib\\site-packages (from matplotlib>=3.0.0->mlxtend) (2.4.7)\n",
      "Requirement already satisfied: kiwisolver>=1.0.1 in c:\\users\\narch\\anaconda3\\envs\\gputest\\lib\\site-packages (from matplotlib>=3.0.0->mlxtend) (1.2.0)\n",
      "Requirement already satisfied: pytz>=2017.2 in c:\\users\\narch\\anaconda3\\envs\\gputest\\lib\\site-packages (from pandas>=0.24.2->mlxtend) (2020.1)\n",
      "Requirement already satisfied: threadpoolctl>=2.0.0 in c:\\users\\narch\\anaconda3\\envs\\gputest\\lib\\site-packages (from scikit-learn>=0.20.3->mlxtend) (2.1.0)\n",
      "Requirement already satisfied: six>=1.5 in c:\\users\\narch\\anaconda3\\envs\\gputest\\lib\\site-packages (from python-dateutil>=2.1->matplotlib>=3.0.0->mlxtend) (1.15.0)\n",
      "Requirement already satisfied: pandas in c:\\users\\narch\\anaconda3\\envs\\gputest\\lib\\site-packages (1.0.4)\n",
      "Requirement already satisfied: pytz>=2017.2 in c:\\users\\narch\\anaconda3\\envs\\gputest\\lib\\site-packages (from pandas) (2020.1)\n",
      "Requirement already satisfied: numpy>=1.13.3 in c:\\users\\narch\\anaconda3\\envs\\gputest\\lib\\site-packages (from pandas) (1.18.5)\n",
      "Requirement already satisfied: python-dateutil>=2.6.1 in c:\\users\\narch\\anaconda3\\envs\\gputest\\lib\\site-packages (from pandas) (2.8.1)\n",
      "Requirement already satisfied: six>=1.5 in c:\\users\\narch\\anaconda3\\envs\\gputest\\lib\\site-packages (from python-dateutil>=2.6.1->pandas) (1.15.0)\n",
      "Requirement already satisfied: numpy in c:\\users\\narch\\anaconda3\\envs\\gputest\\lib\\site-packages (1.18.5)\n",
      "Requirement already satisfied: matplotlib in c:\\users\\narch\\anaconda3\\envs\\gputest\\lib\\site-packages (3.2.1)\n",
      "Requirement already satisfied: numpy>=1.11 in c:\\users\\narch\\anaconda3\\envs\\gputest\\lib\\site-packages (from matplotlib) (1.18.5)\n",
      "Requirement already satisfied: python-dateutil>=2.1 in c:\\users\\narch\\anaconda3\\envs\\gputest\\lib\\site-packages (from matplotlib) (2.8.1)\n",
      "Requirement already satisfied: cycler>=0.10 in c:\\users\\narch\\anaconda3\\envs\\gputest\\lib\\site-packages (from matplotlib) (0.10.0)\n",
      "Requirement already satisfied: pyparsing!=2.0.4,!=2.1.2,!=2.1.6,>=2.0.1 in c:\\users\\narch\\anaconda3\\envs\\gputest\\lib\\site-packages (from matplotlib) (2.4.7)\n",
      "Requirement already satisfied: kiwisolver>=1.0.1 in c:\\users\\narch\\anaconda3\\envs\\gputest\\lib\\site-packages (from matplotlib) (1.2.0)\n",
      "Requirement already satisfied: six>=1.5 in c:\\users\\narch\\anaconda3\\envs\\gputest\\lib\\site-packages (from python-dateutil>=2.1->matplotlib) (1.15.0)\n"
     ]
    },
    {
     "name": "stderr",
     "output_type": "stream",
     "text": [
      "ERROR: Could not find a version that satisfies the requirement sklern (from versions: none)\n",
      "ERROR: No matching distribution found for sklern\n"
     ]
    }
   ],
   "source": [
    "!pip install mlxtend\n",
    "!pip install pandas\n",
    "!pip install numpy\n",
    "!pip install matplotlib\n",
    "!pip install sklern"
   ]
  },
  {
   "cell_type": "code",
   "execution_count": 3,
   "metadata": {},
   "outputs": [
    {
     "name": "stdout",
     "output_type": "stream",
     "text": [
      "Requirement already satisfied: scikit-learn in c:\\users\\narch\\anaconda3\\envs\\gputest\\lib\\site-packages (0.23.1)\n",
      "Requirement already satisfied: numpy>=1.13.3 in c:\\users\\narch\\anaconda3\\envs\\gputest\\lib\\site-packages (from scikit-learn) (1.18.5)\n",
      "Requirement already satisfied: scipy>=0.19.1 in c:\\users\\narch\\anaconda3\\envs\\gputest\\lib\\site-packages (from scikit-learn) (1.4.1)\n",
      "Requirement already satisfied: threadpoolctl>=2.0.0 in c:\\users\\narch\\anaconda3\\envs\\gputest\\lib\\site-packages (from scikit-learn) (2.1.0)\n",
      "Requirement already satisfied: joblib>=0.11 in c:\\users\\narch\\anaconda3\\envs\\gputest\\lib\\site-packages (from scikit-learn) (0.15.1)\n"
     ]
    }
   ],
   "source": [
    "!pip install scikit-learn"
   ]
  },
  {
   "cell_type": "code",
   "execution_count": 21,
   "metadata": {},
   "outputs": [
    {
     "name": "stdout",
     "output_type": "stream",
     "text": [
      "2.2.0\n"
     ]
    }
   ],
   "source": [
    "import tensorflow as tf\n",
    "from tensorflow import keras\n",
    "from tensorflow.keras import Sequential\n",
    "from tensorflow.keras.layers import Flatten, Dense, Conv2D, MaxPool2D, Dropout, BatchNormalization\n",
    "print(tf.__version__)"
   ]
  },
  {
   "cell_type": "code",
   "execution_count": 5,
   "metadata": {},
   "outputs": [],
   "source": [
    "import numpy as np\n",
    "import pandas as pd\n",
    "import matplotlib.pyplot as plt"
   ]
  },
  {
   "cell_type": "code",
   "execution_count": 6,
   "metadata": {},
   "outputs": [],
   "source": [
    "from tensorflow.keras.preprocessing.image import ImageDataGenerator"
   ]
  },
  {
   "cell_type": "code",
   "execution_count": 7,
   "metadata": {},
   "outputs": [],
   "source": [
    "test_data_dir = 'data/test'\n",
    "train_data_dir = 'data/train'"
   ]
  },
  {
   "cell_type": "code",
   "execution_count": 8,
   "metadata": {},
   "outputs": [],
   "source": [
    "img_width = 32\n",
    "img_height = 32\n",
    "batch_size = 20"
   ]
  },
  {
   "cell_type": "code",
   "execution_count": 9,
   "metadata": {},
   "outputs": [],
   "source": [
    "datagen = ImageDataGenerator(rescale=1./255)"
   ]
  },
  {
   "cell_type": "code",
   "execution_count": 10,
   "metadata": {},
   "outputs": [
    {
     "name": "stdout",
     "output_type": "stream",
     "text": [
      "Found 2774 images belonging to 6 classes.\n"
     ]
    }
   ],
   "source": [
    "train_generator = datagen.flow_from_directory(directory = train_data_dir, \n",
    "                                              target_size = (img_width, img_height),\n",
    "                                              classes = ['carton', 'metal', 'organico', 'papel', 'plastico', 'vidrio'],\n",
    "                                              class_mode = 'sparse',\n",
    "                                              batch_size = batch_size)"
   ]
  },
  {
   "cell_type": "code",
   "execution_count": 11,
   "metadata": {},
   "outputs": [
    {
     "data": {
      "text/plain": [
       "array([0, 0, 0, ..., 5, 5, 5])"
      ]
     },
     "execution_count": 11,
     "metadata": {},
     "output_type": "execute_result"
    }
   ],
   "source": [
    "train_generator.classes"
   ]
  },
  {
   "cell_type": "code",
   "execution_count": 12,
   "metadata": {},
   "outputs": [
    {
     "name": "stdout",
     "output_type": "stream",
     "text": [
      "Found 696 images belonging to 6 classes.\n"
     ]
    }
   ],
   "source": [
    "validation_generator = datagen.flow_from_directory(directory=test_data_dir,\n",
    "                                                   target_size = (32, 32),\n",
    "                                                   classes = ['carton', 'metal', 'organico', 'papel', 'plastico', 'vidrio'],\n",
    "                                                   class_mode = 'sparse',\n",
    "                                                   batch_size = batch_size)"
   ]
  },
  {
   "cell_type": "markdown",
   "metadata": {},
   "source": [
    "## Build the CNN Model"
   ]
  },
  {
   "cell_type": "code",
   "execution_count": 13,
   "metadata": {},
   "outputs": [],
   "source": [
    "from tensorflow.keras.optimizers import SGD"
   ]
  },
  {
   "cell_type": "code",
   "execution_count": 14,
   "metadata": {},
   "outputs": [],
   "source": [
    "model = Sequential()\n",
    "model.add(Conv2D(filters=32, kernel_size=(3, 3), padding='same', \n",
    "                 activation='relu', input_shape=[32,32,3]))\n",
    "\n",
    "model.add(Conv2D(filters=32, kernel_size=(3, 3), padding='same', \n",
    "                 activation='relu'))\n",
    "model.add(MaxPool2D(pool_size=(2, 2), strides=2, padding='valid'))\n",
    "model.add(Dropout(0.5))\n",
    "\n",
    "model.add(Flatten())\n",
    "model.add(Dense(units=128, activation='relu'))\n",
    "model.add(Dense(units=6, activation='softmax'))"
   ]
  },
  {
   "cell_type": "code",
   "execution_count": 27,
   "metadata": {},
   "outputs": [],
   "source": [
    "model = Sequential()\n",
    "model.add(Conv2D(filters=64, kernel_size = (3,3), \n",
    "                 activation = 'relu',\n",
    "                 padding = 'same',\n",
    "                 kernel_initializer = 'he_uniform', \n",
    "                 input_shape = (img_width, img_height, 3)))\n",
    "model.add(BatchNormalization())\n",
    "model.add(MaxPool2D(2,2))\n",
    "model.add(Dropout(0.2))\n",
    "\n",
    "model = Sequential()\n",
    "model.add(Conv2D(filters=128, kernel_size = (3,3), \n",
    "                 activation = 'relu',\n",
    "                 padding = 'same',\n",
    "                 kernel_initializer = 'he_uniform'))\n",
    "model.add(BatchNormalization())\n",
    "model.add(MaxPool2D(2,2))\n",
    "model.add(Dropout(0.3))\n",
    "\n",
    "model = Sequential()\n",
    "model.add(Conv2D(filters=256, kernel_size = (3,3), \n",
    "                 activation = 'relu',\n",
    "                 padding = 'same',\n",
    "                 kernel_initializer = 'he_uniform'))\n",
    "model.add(BatchNormalization())\n",
    "model.add(MaxPool2D(2,2))\n",
    "model.add(Dropout(0.5))\n",
    "\n",
    "model.add(Flatten())\n",
    "model.add(Dense(128, activation='relu', \n",
    "                kernel_initializer='he_uniform'))\n",
    "model.add(BatchNormalization())\n",
    "model.add(Dropout(0.5))\n",
    "model.add(Dense(6, activation='softmax'))"
   ]
  },
  {
   "cell_type": "code",
   "execution_count": 23,
   "metadata": {},
   "outputs": [
    {
     "ename": "ValueError",
     "evalue": "This model has not yet been built. Build the model first by calling `build()` or calling `fit()` with some data, or specify an `input_shape` argument in the first layer(s) for automatic build.",
     "output_type": "error",
     "traceback": [
      "\u001b[1;31m---------------------------------------------------------------------------\u001b[0m",
      "\u001b[1;31mValueError\u001b[0m                                Traceback (most recent call last)",
      "\u001b[1;32m<ipython-input-23-5f15418b3570>\u001b[0m in \u001b[0;36m<module>\u001b[1;34m\u001b[0m\n\u001b[1;32m----> 1\u001b[1;33m \u001b[0mmodel\u001b[0m\u001b[1;33m.\u001b[0m\u001b[0msummary\u001b[0m\u001b[1;33m(\u001b[0m\u001b[1;33m)\u001b[0m\u001b[1;33m\u001b[0m\u001b[1;33m\u001b[0m\u001b[0m\n\u001b[0m",
      "\u001b[1;32m~\\anaconda3\\envs\\gputest\\lib\\site-packages\\tensorflow\\python\\keras\\engine\\network.py\u001b[0m in \u001b[0;36msummary\u001b[1;34m(self, line_length, positions, print_fn)\u001b[0m\n\u001b[0;32m   1344\u001b[0m     \"\"\"\n\u001b[0;32m   1345\u001b[0m     \u001b[1;32mif\u001b[0m \u001b[1;32mnot\u001b[0m \u001b[0mself\u001b[0m\u001b[1;33m.\u001b[0m\u001b[0mbuilt\u001b[0m\u001b[1;33m:\u001b[0m\u001b[1;33m\u001b[0m\u001b[1;33m\u001b[0m\u001b[0m\n\u001b[1;32m-> 1346\u001b[1;33m       raise ValueError('This model has not yet been built. '\n\u001b[0m\u001b[0;32m   1347\u001b[0m                        \u001b[1;34m'Build the model first by calling `build()` or calling '\u001b[0m\u001b[1;33m\u001b[0m\u001b[1;33m\u001b[0m\u001b[0m\n\u001b[0;32m   1348\u001b[0m                        \u001b[1;34m'`fit()` with some data, or specify '\u001b[0m\u001b[1;33m\u001b[0m\u001b[1;33m\u001b[0m\u001b[0m\n",
      "\u001b[1;31mValueError\u001b[0m: This model has not yet been built. Build the model first by calling `build()` or calling `fit()` with some data, or specify an `input_shape` argument in the first layer(s) for automatic build."
     ]
    }
   ],
   "source": [
    "model.summary()"
   ]
  },
  {
   "cell_type": "code",
   "execution_count": 28,
   "metadata": {},
   "outputs": [],
   "source": [
    "opt = SGD(learning_rate=0.005, momentum=0.9)\n",
    "\n",
    "model.compile(optimizer=opt, \n",
    "              loss='sparse_categorical_crossentropy',\n",
    "              metrics=['accuracy'])"
   ]
  },
  {
   "cell_type": "code",
   "execution_count": null,
   "metadata": {},
   "outputs": [
    {
     "name": "stdout",
     "output_type": "stream",
     "text": [
      "Epoch 1/20\n",
      "139/139 [==============================] - 3s 23ms/step - loss: 1.3303 - accuracy: 0.5054 - val_loss: 1.5575 - val_accuracy: 0.3966\n",
      "Epoch 2/20\n",
      "139/139 [==============================] - 3s 22ms/step - loss: 0.9942 - accuracy: 0.6143 - val_loss: 1.1866 - val_accuracy: 0.5589\n",
      "Epoch 3/20\n",
      "139/139 [==============================] - 3s 22ms/step - loss: 0.8921 - accuracy: 0.6449 - val_loss: 0.9305 - val_accuracy: 0.6782\n",
      "Epoch 4/20\n",
      "139/139 [==============================] - 3s 22ms/step - loss: 0.8030 - accuracy: 0.7004 - val_loss: 0.9868 - val_accuracy: 0.6207\n",
      "Epoch 5/20\n",
      "139/139 [==============================] - 3s 22ms/step - loss: 0.7541 - accuracy: 0.7192 - val_loss: 0.8925 - val_accuracy: 0.6839\n",
      "Epoch 6/20\n",
      "139/139 [==============================] - 3s 22ms/step - loss: 0.7223 - accuracy: 0.7350 - val_loss: 0.8777 - val_accuracy: 0.6767\n",
      "Epoch 7/20\n",
      "139/139 [==============================] - 3s 23ms/step - loss: 0.6654 - accuracy: 0.7592 - val_loss: 1.0044 - val_accuracy: 0.6422\n",
      "Epoch 8/20\n",
      "139/139 [==============================] - 3s 23ms/step - loss: 0.6463 - accuracy: 0.7707 - val_loss: 0.9482 - val_accuracy: 0.6552\n",
      "Epoch 9/20\n",
      "139/139 [==============================] - 3s 23ms/step - loss: 0.5928 - accuracy: 0.7747 - val_loss: 0.9126 - val_accuracy: 0.6853\n",
      "Epoch 10/20\n",
      "139/139 [==============================] - 3s 23ms/step - loss: 0.5106 - accuracy: 0.8082 - val_loss: 1.1749 - val_accuracy: 0.6336\n",
      "Epoch 11/20\n",
      "106/139 [=====================>........] - ETA: 0s - loss: 0.5588 - accuracy: 0.8005"
     ]
    }
   ],
   "source": [
    "history = model.fit_generator(generator=train_generator,\n",
    "                              steps_per_epoch=len(train_generator),\n",
    "                              epochs=20, \n",
    "                              validation_data=validation_generator,\n",
    "                              validation_steps=len(validation_generator),\n",
    "                              verbose=1)"
   ]
  },
  {
   "cell_type": "code",
   "execution_count": 26,
   "metadata": {},
   "outputs": [
    {
     "data": {
      "image/png": "[encoded data removed]",
      "text/plain": [
       "<Figure size 432x288 with 1 Axes>"
      ]
     },
     "metadata": {
      "needs_background": "light"
     },
     "output_type": "display_data"
    },
    {
     "data": {
      "image/png": "[encoded data removed]",
      "text/plain": [
       "<Figure size 432x288 with 1 Axes>"
      ]
     },
     "metadata": {
      "needs_background": "light"
     },
     "output_type": "display_data"
    }
   ],
   "source": [
    "# Plot training and validation accuracy values\n",
    "epoch_range = range(1,21)\n",
    "plt.plot(epoch_range, history.history['accuracy'])\n",
    "plt.plot(epoch_range, history.history['val_accuracy'])\n",
    "plt.title('Model accuracy')\n",
    "plt.ylabel('Accuracy')\n",
    "plt.xlabel('Epoch')\n",
    "plt.legend(['Train', 'Val'], loc='upper left')\n",
    "plt.show()\n",
    "\n",
    "# Plot training and validation loss values\n",
    "plt.plot(epoch_range, history.history['loss'])\n",
    "plt.plot(epoch_range, history.history['val_loss'])\n",
    "plt.title('Model loss')\n",
    "plt.ylabel('Loss')\n",
    "plt.xlabel('Epoch')\n",
    "plt.legend(['Train', 'Val'], loc='upper left')\n",
    "plt.show()"
   ]
  },
  {
   "cell_type": "markdown",
   "metadata": {},
   "source": [
    "## Confusion Matrix"
   ]
  },
  {
   "cell_type": "code",
   "execution_count": null,
   "metadata": {},
   "outputs": [],
   "source": [
    "from mlxtend.plotting import plot_confusion_matrix\n",
    "from sklearn.metrics import confusion_matrix"
   ]
  },
  {
   "cell_type": "code",
   "execution_count": null,
   "metadata": {},
   "outputs": [],
   "source": []
  }
 ],
 "metadata": {
  "kernelspec": {
   "display_name": "gputest",
   "language": "python",
   "name": "gputest"
  },
  "language_info": {
   "codemirror_mode": {
    "name": "ipython",
    "version": 3
   },
   "file_extension": ".py",
   "mimetype": "text/x-python",
   "name": "python",
   "nbconvert_exporter": "python",
   "pygments_lexer": "ipython3",
   "version": "3.7.7"
  }
 },
 "nbformat": 4,
 "nbformat_minor": 4
}
